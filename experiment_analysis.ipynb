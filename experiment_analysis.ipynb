{
 "cells": [
  {
   "cell_type": "markdown",
   "metadata": {},
   "source": [
    "## Setup"
   ]
  },
  {
   "cell_type": "code",
   "execution_count": 1,
   "metadata": {},
   "outputs": [],
   "source": [
    "%matplotlib inline\n",
    "%load_ext autoreload\n",
    "%autoreload 2"
   ]
  },
  {
   "cell_type": "code",
   "execution_count": 2,
   "metadata": {},
   "outputs": [
    {
     "data": {
      "application/javascript": [
       "IPython.OutputArea.prototype._should_scroll = function(lines) {\n",
       "    return false;\n",
       "}\n"
      ],
      "text/plain": [
       "<IPython.core.display.Javascript object>"
      ]
     },
     "metadata": {},
     "output_type": "display_data"
    }
   ],
   "source": [
    "%%javascript\n",
    "IPython.OutputArea.prototype._should_scroll = function(lines) {\n",
    "    return false;\n",
    "}"
   ]
  },
  {
   "cell_type": "code",
   "execution_count": 3,
   "metadata": {},
   "outputs": [],
   "source": [
    "import cv2\n",
    "import os\n",
    "import sys\n",
    "import numpy as np\n",
    "import pandas as pd\n",
    "from glob import glob\n",
    "from matplotlib import pyplot as plt\n",
    "import pickle\n",
    "from sklearn.decomposition import PCA\n",
    "from sklearn.cluster import KMeans"
   ]
  },
  {
   "cell_type": "code",
   "execution_count": 4,
   "metadata": {},
   "outputs": [],
   "source": [
    "for module_dir in ['visionfuncs', 'EPypes', 'vcalib']: \n",
    "\n",
    "    m_path = os.path.join('libraries', module_dir)\n",
    "    if m_path not in sys.path:\n",
    "        sys.path.append(m_path)\n",
    "    \n",
    "from visionfuncs.io import sorted_glob\n",
    "from visionfuncs.io import open_image\n",
    "from visionfuncs import geometry\n",
    "\n",
    "from epypes.compgraph import CompGraphRunner\n",
    "\n",
    "from vcalib import calibrun\n",
    "from vcalib import planefit\n",
    "from vcalib import calibim\n",
    "from vcalib import nputils\n",
    "from vcalib import imsubsets\n",
    "from vcalib import viz\n",
    "\n",
    "from vcalib.pipelineclasses import CalibrationInput, CalibTriang, MeanDistInRows, MaskedValues"
   ]
  },
  {
   "cell_type": "code",
   "execution_count": null,
   "metadata": {},
   "outputs": [],
   "source": []
  },
  {
   "cell_type": "markdown",
   "metadata": {},
   "source": [
    "## Helper functions"
   ]
  },
  {
   "cell_type": "code",
   "execution_count": 5,
   "metadata": {},
   "outputs": [],
   "source": [
    "def load_pickle(fname):\n",
    "    with open(fname, 'rb') as f:\n",
    "        obj = pickle.load(f)\n",
    "    return obj\n",
    "\n",
    "\n",
    "def plot_hist0_maxabserr(df, color_data, color_meaning, colormap='PiYG'):\n",
    "    \n",
    "    ax = plt.gca()\n",
    "    \n",
    "    sc = ax.scatter(df.Hist0, df.MaxAbsErr, c=color_data, cmap=colormap)\n",
    "    ax.set_xlabel('Number of cases with absolute error within 0 and 0.1 mm')\n",
    "    ax.set_ylabel('Maximal absultute error')\n",
    "    plt.colorbar(sc, ax=ax, label=color_meaning)\n",
    "    \n",
    "    \n",
    "def plot_scatter_with_colorbar(x, y, color_data, color_meaning, colormap='PiYG'):\n",
    "    \n",
    "    ax = plt.gca()\n",
    "    \n",
    "    sc = ax.scatter(x, y, c=color_data, cmap=colormap)\n",
    "    plt.colorbar(sc, ax=ax, label=color_meaning)\n",
    "    \n",
    "    \n",
    "def plot_histograms_for_ranks(df, n_images, step_size):\n",
    "\n",
    "    color_list = ['tab:green'] + ['tab:blue' for i in range(9)] + ['tab:red']\n",
    "\n",
    "    chosen_ranks = list(range(0, len(df), step_size))\n",
    "    n_ranks = len(chosen_ranks)\n",
    "    n_rows = n_ranks // 2 + n_ranks % 2\n",
    "\n",
    "    plt.figure(figsize=(10, 12))\n",
    "\n",
    "    for i, rank in enumerate(chosen_ranks):\n",
    "\n",
    "        row = df.iloc[rank]\n",
    "        hist = row[['Hist{}'.format(j) for j in range(11)]]\n",
    "\n",
    "        heights = hist / n_images\n",
    "\n",
    "        plt.subplot(n_rows, 2, i + 1)\n",
    "        plt.ylim(top=0.65)\n",
    "        plt.bar(hist.index, heights, color=color_list)\n",
    "        plt.xticks(range(11), range(11))\n",
    "        plt.title('Calibration run of rank {}'.format(rank + 1))\n",
    "\n",
    "    plt.tight_layout()\n",
    "    \n",
    "    \n",
    "def check_labels(labels, df):\n",
    "\n",
    "    m1 = df[kmeans.labels_ == 1].NGoodImages.mean()\n",
    "    m0 = df[kmeans.labels_ == 0].NGoodImages.mean()\n",
    "\n",
    "    if m1 < m0: \n",
    "        # flip 0 and 1\n",
    "        return np.array(kmeans.labels_ == 0, dtype=int)\n",
    "\n",
    "    return labels\n",
    "\n",
    "\n",
    "def gather_from_df_acc_for_consecutive_groups(df_acc, colname, group_size, n_groups):\n",
    "    \n",
    "    res = []\n",
    "    groups = []\n",
    "\n",
    "    for i in range(n_groups):\n",
    "\n",
    "        start = i * group_size\n",
    "        end = i * group_size + group_size\n",
    "\n",
    "        m = df_acc[start:end][colname].mean()\n",
    "\n",
    "        res.append(m)\n",
    "        groups.append((start, end))\n",
    "        \n",
    "    return np.array(res), groups\n",
    "\n",
    "\n",
    "def plot_consec(consec, groups):\n",
    "    \n",
    "    plt.figure(figsize=(15, 3))\n",
    "    plt.plot(consec, 'o')\n",
    "    \n",
    "    xs = np.array(list(range(len(groups))))\n",
    "    \n",
    "    coefs = np.polyfit(xs, consec, deg=1)\n",
    "    line = np.poly1d(coefs)\n",
    "\n",
    "    plt.xticks(\n",
    "        xs,\n",
    "        ['[{}-{}]'.format(a+1, b) for a, b in groups]\n",
    "    )\n",
    "    \n",
    "    plt.plot(xs, line(xs))\n",
    "    \n",
    "    plt.xlabel('Groups of consecutive calibration runs based on the original ordering')\n",
    "    plt.ylabel('Mean value per group')"
   ]
  },
  {
   "cell_type": "code",
   "execution_count": null,
   "metadata": {},
   "outputs": [],
   "source": []
  },
  {
   "cell_type": "code",
   "execution_count": null,
   "metadata": {},
   "outputs": [],
   "source": []
  },
  {
   "cell_type": "markdown",
   "metadata": {},
   "source": [
    "## Load pickled data"
   ]
  },
  {
   "cell_type": "code",
   "execution_count": 6,
   "metadata": {},
   "outputs": [],
   "source": [
    "PICKLES_DIR = 'data/pickles'"
   ]
  },
  {
   "cell_type": "code",
   "execution_count": 7,
   "metadata": {},
   "outputs": [],
   "source": [
    "# Indices of image pair in each subset\n",
    "subsets = load_pickle(os.path.join(PICKLES_DIR, 'subsets.pkl'))\n",
    "\n",
    "# Point clouds from trinagulation\n",
    "triang = load_pickle(os.path.join(PICKLES_DIR, 'triang.pkl'))\n",
    "\n",
    "# Mean distances in rows for each calibration/pair combination\n",
    "mdir = load_pickle(os.path.join(PICKLES_DIR, 'mdir.pkl'))"
   ]
  },
  {
   "cell_type": "code",
   "execution_count": null,
   "metadata": {},
   "outputs": [],
   "source": []
  },
  {
   "cell_type": "code",
   "execution_count": 8,
   "metadata": {
    "scrolled": true
   },
   "outputs": [
    {
     "data": {
      "text/plain": [
       "(200, 264)"
      ]
     },
     "execution_count": 8,
     "metadata": {},
     "output_type": "execute_result"
    }
   ],
   "source": [
    "mdir.shape"
   ]
  },
  {
   "cell_type": "code",
   "execution_count": 9,
   "metadata": {},
   "outputs": [
    {
     "data": {
      "text/plain": [
       "(200, 264, 63, 3)"
      ]
     },
     "execution_count": 9,
     "metadata": {},
     "output_type": "execute_result"
    }
   ],
   "source": [
    "triang.shape"
   ]
  },
  {
   "cell_type": "code",
   "execution_count": null,
   "metadata": {},
   "outputs": [],
   "source": []
  },
  {
   "cell_type": "markdown",
   "metadata": {},
   "source": [
    "## Create masks"
   ]
  },
  {
   "cell_type": "code",
   "execution_count": 10,
   "metadata": {},
   "outputs": [],
   "source": [
    "plane_rms_all = calibim.apply_metric_to_all_point_clouds(triang, calibim.metric_plane_diff_rms)"
   ]
  },
  {
   "cell_type": "code",
   "execution_count": 11,
   "metadata": {},
   "outputs": [],
   "source": [
    "mask_mdir = calibim.detect_good_triangulations(mdir, target=20., tol=5.)\n",
    "mask_rms = plane_rms_all < 10.\n",
    "mask_both = mask_mdir & mask_rms"
   ]
  },
  {
   "cell_type": "code",
   "execution_count": null,
   "metadata": {},
   "outputs": [],
   "source": []
  },
  {
   "cell_type": "code",
   "execution_count": 12,
   "metadata": {},
   "outputs": [
    {
     "data": {
      "image/png": "[encoded data removed]",
      "text/plain": [
       "<Figure size 720x360 with 1 Axes>"
      ]
     },
     "metadata": {
      "needs_background": "light"
     },
     "output_type": "display_data"
    }
   ],
   "source": [
    "plt.figure(figsize=(10, 5))\n",
    "plt.imshow(mask_both)\n",
    "plt.xlabel('Images: 0 - {}'.format(mask_both.shape[1] - 1))\n",
    "_ = plt.ylabel('Calbration runs: 0 - {}'.format(mask_both.shape[0] - 1))"
   ]
  },
  {
   "cell_type": "code",
   "execution_count": null,
   "metadata": {},
   "outputs": [],
   "source": []
  },
  {
   "cell_type": "markdown",
   "metadata": {},
   "source": [
    "## Analyze masked `mdir`"
   ]
  },
  {
   "cell_type": "code",
   "execution_count": 13,
   "metadata": {},
   "outputs": [],
   "source": [
    "masked_mdir = MaskedValues(mdir, target=20., mask=mask_both)"
   ]
  },
  {
   "cell_type": "code",
   "execution_count": null,
   "metadata": {},
   "outputs": [],
   "source": []
  },
  {
   "cell_type": "code",
   "execution_count": 14,
   "metadata": {},
   "outputs": [
    {
     "data": {
      "text/html": [
       "<div>\n",
       "<style scoped>\n",
       "    .dataframe tbody tr th:only-of-type {\n",
       "        vertical-align: middle;\n",
       "    }\n",
       "\n",
       "    .dataframe tbody tr th {\n",
       "        vertical-align: top;\n",
       "    }\n",
       "\n",
       "    .dataframe thead th {\n",
       "        text-align: right;\n",
       "    }\n",
       "</style>\n",
       "<table border=\"1\" class=\"dataframe\">\n",
       "  <thead>\n",
       "    <tr style=\"text-align: right;\">\n",
       "      <th></th>\n",
       "      <th>Mean</th>\n",
       "      <th>StdDev</th>\n",
       "      <th>NGoodImages</th>\n",
       "      <th>MaxAbsErr</th>\n",
       "      <th>Hist0</th>\n",
       "      <th>Hist1</th>\n",
       "      <th>Hist2</th>\n",
       "      <th>Hist3</th>\n",
       "      <th>Hist4</th>\n",
       "      <th>Hist5</th>\n",
       "      <th>Hist6</th>\n",
       "      <th>Hist7</th>\n",
       "      <th>Hist8</th>\n",
       "      <th>Hist9</th>\n",
       "      <th>Hist10</th>\n",
       "      <th>SubsetSize</th>\n",
       "      <th>PlaneRMSMean</th>\n",
       "    </tr>\n",
       "  </thead>\n",
       "  <tbody>\n",
       "    <tr>\n",
       "      <th>195</th>\n",
       "      <td>20.089752</td>\n",
       "      <td>0.950947</td>\n",
       "      <td>257</td>\n",
       "      <td>4.309574</td>\n",
       "      <td>158</td>\n",
       "      <td>25</td>\n",
       "      <td>5</td>\n",
       "      <td>6</td>\n",
       "      <td>4</td>\n",
       "      <td>4</td>\n",
       "      <td>4</td>\n",
       "      <td>3</td>\n",
       "      <td>1</td>\n",
       "      <td>4</td>\n",
       "      <td>43</td>\n",
       "      <td>24</td>\n",
       "      <td>0.494542</td>\n",
       "    </tr>\n",
       "    <tr>\n",
       "      <th>92</th>\n",
       "      <td>20.073732</td>\n",
       "      <td>0.968548</td>\n",
       "      <td>257</td>\n",
       "      <td>4.492296</td>\n",
       "      <td>142</td>\n",
       "      <td>19</td>\n",
       "      <td>17</td>\n",
       "      <td>13</td>\n",
       "      <td>5</td>\n",
       "      <td>4</td>\n",
       "      <td>6</td>\n",
       "      <td>2</td>\n",
       "      <td>1</td>\n",
       "      <td>5</td>\n",
       "      <td>43</td>\n",
       "      <td>25</td>\n",
       "      <td>0.501276</td>\n",
       "    </tr>\n",
       "    <tr>\n",
       "      <th>154</th>\n",
       "      <td>20.066356</td>\n",
       "      <td>0.947566</td>\n",
       "      <td>257</td>\n",
       "      <td>4.205867</td>\n",
       "      <td>140</td>\n",
       "      <td>23</td>\n",
       "      <td>22</td>\n",
       "      <td>9</td>\n",
       "      <td>4</td>\n",
       "      <td>6</td>\n",
       "      <td>2</td>\n",
       "      <td>2</td>\n",
       "      <td>1</td>\n",
       "      <td>3</td>\n",
       "      <td>45</td>\n",
       "      <td>16</td>\n",
       "      <td>0.540565</td>\n",
       "    </tr>\n",
       "    <tr>\n",
       "      <th>193</th>\n",
       "      <td>20.156560</td>\n",
       "      <td>0.985556</td>\n",
       "      <td>257</td>\n",
       "      <td>4.366292</td>\n",
       "      <td>134</td>\n",
       "      <td>22</td>\n",
       "      <td>20</td>\n",
       "      <td>14</td>\n",
       "      <td>9</td>\n",
       "      <td>4</td>\n",
       "      <td>2</td>\n",
       "      <td>6</td>\n",
       "      <td>2</td>\n",
       "      <td>2</td>\n",
       "      <td>42</td>\n",
       "      <td>17</td>\n",
       "      <td>0.577554</td>\n",
       "    </tr>\n",
       "    <tr>\n",
       "      <th>103</th>\n",
       "      <td>20.161985</td>\n",
       "      <td>0.980741</td>\n",
       "      <td>257</td>\n",
       "      <td>4.670504</td>\n",
       "      <td>133</td>\n",
       "      <td>47</td>\n",
       "      <td>7</td>\n",
       "      <td>7</td>\n",
       "      <td>4</td>\n",
       "      <td>4</td>\n",
       "      <td>4</td>\n",
       "      <td>0</td>\n",
       "      <td>2</td>\n",
       "      <td>4</td>\n",
       "      <td>45</td>\n",
       "      <td>27</td>\n",
       "      <td>0.509339</td>\n",
       "    </tr>\n",
       "    <tr>\n",
       "      <th>163</th>\n",
       "      <td>20.064004</td>\n",
       "      <td>0.962311</td>\n",
       "      <td>257</td>\n",
       "      <td>4.334908</td>\n",
       "      <td>131</td>\n",
       "      <td>24</td>\n",
       "      <td>20</td>\n",
       "      <td>9</td>\n",
       "      <td>12</td>\n",
       "      <td>4</td>\n",
       "      <td>5</td>\n",
       "      <td>3</td>\n",
       "      <td>1</td>\n",
       "      <td>3</td>\n",
       "      <td>45</td>\n",
       "      <td>27</td>\n",
       "      <td>0.491683</td>\n",
       "    </tr>\n",
       "    <tr>\n",
       "      <th>159</th>\n",
       "      <td>20.060556</td>\n",
       "      <td>0.933664</td>\n",
       "      <td>257</td>\n",
       "      <td>4.060692</td>\n",
       "      <td>128</td>\n",
       "      <td>36</td>\n",
       "      <td>20</td>\n",
       "      <td>8</td>\n",
       "      <td>8</td>\n",
       "      <td>3</td>\n",
       "      <td>4</td>\n",
       "      <td>2</td>\n",
       "      <td>3</td>\n",
       "      <td>2</td>\n",
       "      <td>43</td>\n",
       "      <td>23</td>\n",
       "      <td>0.500919</td>\n",
       "    </tr>\n",
       "    <tr>\n",
       "      <th>122</th>\n",
       "      <td>20.075398</td>\n",
       "      <td>0.964407</td>\n",
       "      <td>257</td>\n",
       "      <td>4.368642</td>\n",
       "      <td>124</td>\n",
       "      <td>45</td>\n",
       "      <td>14</td>\n",
       "      <td>8</td>\n",
       "      <td>5</td>\n",
       "      <td>5</td>\n",
       "      <td>6</td>\n",
       "      <td>1</td>\n",
       "      <td>1</td>\n",
       "      <td>5</td>\n",
       "      <td>43</td>\n",
       "      <td>15</td>\n",
       "      <td>0.516407</td>\n",
       "    </tr>\n",
       "    <tr>\n",
       "      <th>51</th>\n",
       "      <td>20.044293</td>\n",
       "      <td>0.926113</td>\n",
       "      <td>257</td>\n",
       "      <td>4.143052</td>\n",
       "      <td>120</td>\n",
       "      <td>32</td>\n",
       "      <td>25</td>\n",
       "      <td>10</td>\n",
       "      <td>13</td>\n",
       "      <td>2</td>\n",
       "      <td>4</td>\n",
       "      <td>3</td>\n",
       "      <td>3</td>\n",
       "      <td>3</td>\n",
       "      <td>42</td>\n",
       "      <td>17</td>\n",
       "      <td>0.503697</td>\n",
       "    </tr>\n",
       "    <tr>\n",
       "      <th>33</th>\n",
       "      <td>20.046137</td>\n",
       "      <td>0.976130</td>\n",
       "      <td>258</td>\n",
       "      <td>4.998884</td>\n",
       "      <td>112</td>\n",
       "      <td>34</td>\n",
       "      <td>16</td>\n",
       "      <td>17</td>\n",
       "      <td>13</td>\n",
       "      <td>10</td>\n",
       "      <td>4</td>\n",
       "      <td>2</td>\n",
       "      <td>2</td>\n",
       "      <td>4</td>\n",
       "      <td>44</td>\n",
       "      <td>17</td>\n",
       "      <td>0.539851</td>\n",
       "    </tr>\n",
       "  </tbody>\n",
       "</table>\n",
       "</div>"
      ],
      "text/plain": [
       "          Mean    StdDev  NGoodImages  MaxAbsErr  Hist0  Hist1  Hist2  Hist3  \\\n",
       "195  20.089752  0.950947          257   4.309574    158     25      5      6   \n",
       "92   20.073732  0.968548          257   4.492296    142     19     17     13   \n",
       "154  20.066356  0.947566          257   4.205867    140     23     22      9   \n",
       "193  20.156560  0.985556          257   4.366292    134     22     20     14   \n",
       "103  20.161985  0.980741          257   4.670504    133     47      7      7   \n",
       "163  20.064004  0.962311          257   4.334908    131     24     20      9   \n",
       "159  20.060556  0.933664          257   4.060692    128     36     20      8   \n",
       "122  20.075398  0.964407          257   4.368642    124     45     14      8   \n",
       "51   20.044293  0.926113          257   4.143052    120     32     25     10   \n",
       "33   20.046137  0.976130          258   4.998884    112     34     16     17   \n",
       "\n",
       "     Hist4  Hist5  Hist6  Hist7  Hist8  Hist9  Hist10  SubsetSize  \\\n",
       "195      4      4      4      3      1      4      43          24   \n",
       "92       5      4      6      2      1      5      43          25   \n",
       "154      4      6      2      2      1      3      45          16   \n",
       "193      9      4      2      6      2      2      42          17   \n",
       "103      4      4      4      0      2      4      45          27   \n",
       "163     12      4      5      3      1      3      45          27   \n",
       "159      8      3      4      2      3      2      43          23   \n",
       "122      5      5      6      1      1      5      43          15   \n",
       "51      13      2      4      3      3      3      42          17   \n",
       "33      13     10      4      2      2      4      44          17   \n",
       "\n",
       "     PlaneRMSMean  \n",
       "195      0.494542  \n",
       "92       0.501276  \n",
       "154      0.540565  \n",
       "193      0.577554  \n",
       "103      0.509339  \n",
       "163      0.491683  \n",
       "159      0.500919  \n",
       "122      0.516407  \n",
       "51       0.503697  \n",
       "33       0.539851  "
      ]
     },
     "execution_count": 14,
     "metadata": {},
     "output_type": "execute_result"
    }
   ],
   "source": [
    "df = masked_mdir.df_sorted().dropna()\n",
    "\n",
    "df['SubsetSize'] = [len(subsets[idx]) for idx in df.index]\n",
    "df['PlaneRMSMean'] = [plane_rms_all[idx][mask_both[idx]].mean() for idx in df.index]\n",
    "\n",
    "df.head(10)"
   ]
  },
  {
   "cell_type": "code",
   "execution_count": null,
   "metadata": {},
   "outputs": [],
   "source": []
  },
  {
   "cell_type": "code",
   "execution_count": 15,
   "metadata": {},
   "outputs": [
    {
     "data": {
      "image/png": "[encoded data removed]",
      "text/plain": [
       "<Figure size 432x288 with 1 Axes>"
      ]
     },
     "metadata": {
      "needs_background": "light"
     },
     "output_type": "display_data"
    }
   ],
   "source": [
    "_ = plt.hist(mdir[mask_both], bins=100)"
   ]
  },
  {
   "cell_type": "code",
   "execution_count": 16,
   "metadata": {},
   "outputs": [
    {
     "data": {
      "image/png": "[encoded data removed]",
      "text/plain": [
       "<Figure size 432x288 with 1 Axes>"
      ]
     },
     "metadata": {
      "needs_background": "light"
     },
     "output_type": "display_data"
    }
   ],
   "source": [
    "_ = plt.hist(plane_rms_all[mask_both], bins=100)"
   ]
  },
  {
   "cell_type": "code",
   "execution_count": null,
   "metadata": {},
   "outputs": [],
   "source": []
  },
  {
   "cell_type": "code",
   "execution_count": 17,
   "metadata": {},
   "outputs": [
    {
     "data": {
      "image/png": "[encoded data removed]",
      "text/plain": [
       "<Figure size 432x288 with 2 Axes>"
      ]
     },
     "metadata": {
      "needs_background": "light"
     },
     "output_type": "display_data"
    }
   ],
   "source": [
    "plot_hist0_maxabserr(df, df.NGoodImages, 'Number of good images')"
   ]
  },
  {
   "cell_type": "code",
   "execution_count": null,
   "metadata": {},
   "outputs": [],
   "source": []
  },
  {
   "cell_type": "markdown",
   "metadata": {},
   "source": [
    "## Comparing histograms"
   ]
  },
  {
   "cell_type": "code",
   "execution_count": 18,
   "metadata": {},
   "outputs": [
    {
     "data": {
      "image/png": "[encoded data removed]",
      "text/plain": [
       "<Figure size 720x864 with 10 Axes>"
      ]
     },
     "metadata": {
      "needs_background": "light"
     },
     "output_type": "display_data"
    }
   ],
   "source": [
    "n_images = mdir.shape[1]\n",
    "\n",
    "plot_histograms_for_ranks(df, n_images, step_size=20)"
   ]
  },
  {
   "cell_type": "code",
   "execution_count": null,
   "metadata": {},
   "outputs": [],
   "source": []
  },
  {
   "cell_type": "markdown",
   "metadata": {},
   "source": [
    "## PCA and KMeans"
   ]
  },
  {
   "cell_type": "code",
   "execution_count": 19,
   "metadata": {},
   "outputs": [],
   "source": [
    "pca = PCA(n_components=2, random_state=42)\n",
    "\n",
    "pca.fit(df)\n",
    "X_pca = pca.transform(df)"
   ]
  },
  {
   "cell_type": "code",
   "execution_count": 20,
   "metadata": {},
   "outputs": [
    {
     "data": {
      "text/plain": [
       "KMeans(algorithm='auto', copy_x=True, init='k-means++', max_iter=300,\n",
       "       n_clusters=2, n_init=10, n_jobs=None, precompute_distances='auto',\n",
       "       random_state=42, tol=0.0001, verbose=0)"
      ]
     },
     "execution_count": 20,
     "metadata": {},
     "output_type": "execute_result"
    }
   ],
   "source": [
    "kmeans = KMeans(n_clusters=2, random_state=42)\n",
    "kmeans.fit(X_pca)"
   ]
  },
  {
   "cell_type": "code",
   "execution_count": null,
   "metadata": {},
   "outputs": [],
   "source": []
  },
  {
   "cell_type": "code",
   "execution_count": 21,
   "metadata": {},
   "outputs": [],
   "source": [
    "labels = check_labels(kmeans.labels_, df)"
   ]
  },
  {
   "cell_type": "code",
   "execution_count": null,
   "metadata": {},
   "outputs": [],
   "source": []
  },
  {
   "cell_type": "code",
   "execution_count": 22,
   "metadata": {},
   "outputs": [
    {
     "name": "stdout",
     "output_type": "stream",
     "text": [
      "Size of the \"good\" cluster: 114\n",
      "Size of the \"bad\" cluster: 85\n"
     ]
    }
   ],
   "source": [
    "df_good = df[labels == 1]\n",
    "df_bad = df[labels == 0]\n",
    "\n",
    "print('Size of the \"good\" cluster:', len(df_good))\n",
    "print('Size of the \"bad\" cluster:', len(df_bad))"
   ]
  },
  {
   "cell_type": "code",
   "execution_count": null,
   "metadata": {},
   "outputs": [],
   "source": []
  },
  {
   "cell_type": "code",
   "execution_count": 23,
   "metadata": {},
   "outputs": [
    {
     "data": {
      "image/png": "[encoded data removed]",
      "text/plain": [
       "<Figure size 432x288 with 1 Axes>"
      ]
     },
     "metadata": {
      "needs_background": "light"
     },
     "output_type": "display_data"
    }
   ],
   "source": [
    "plt.scatter(\n",
    "    X_pca[labels == 0][:, 0], \n",
    "    X_pca[labels == 0][:, 1], \n",
    "    c='tab:red', \n",
    "    label='Class 0', \n",
    ")\n",
    "\n",
    "plt.scatter(\n",
    "    X_pca[labels == 1][:, 0], \n",
    "    X_pca[labels == 1][:, 1], \n",
    "    c='tab:green', \n",
    "    label='Class 1', \n",
    ")\n",
    "\n",
    "_ = plt.legend()"
   ]
  },
  {
   "cell_type": "code",
   "execution_count": null,
   "metadata": {},
   "outputs": [],
   "source": []
  },
  {
   "cell_type": "code",
   "execution_count": 24,
   "metadata": {},
   "outputs": [],
   "source": [
    "h_ratio = df.Hist0 / df.Hist10"
   ]
  },
  {
   "cell_type": "code",
   "execution_count": 25,
   "metadata": {},
   "outputs": [
    {
     "data": {
      "image/png": "[encoded data removed]",
      "text/plain": [
       "<Figure size 432x288 with 2 Axes>"
      ]
     },
     "metadata": {
      "needs_background": "light"
     },
     "output_type": "display_data"
    }
   ],
   "source": [
    "plot_scatter_with_colorbar(X_pca[:, 0], X_pca[:, 1], h_ratio, '$h_{0}/h_{10}$', colormap='RdYlGn')\n",
    "plt.xlabel('PCA component 1')\n",
    "_ = plt.ylabel('PCA component 2')"
   ]
  },
  {
   "cell_type": "code",
   "execution_count": null,
   "metadata": {},
   "outputs": [],
   "source": []
  },
  {
   "cell_type": "markdown",
   "metadata": {},
   "source": [
    "## Accuracy measurements"
   ]
  },
  {
   "cell_type": "code",
   "execution_count": 26,
   "metadata": {},
   "outputs": [],
   "source": [
    "pairs_scores = np.sum(mask_mdir, axis=0)\n",
    "best_pair_index = np.argmax(pairs_scores)\n",
    "best_pair_score = pairs_scores[best_pair_index]"
   ]
  },
  {
   "cell_type": "code",
   "execution_count": null,
   "metadata": {},
   "outputs": [],
   "source": []
  },
  {
   "cell_type": "code",
   "execution_count": 27,
   "metadata": {},
   "outputs": [
    {
     "data": {
      "text/html": [
       "<div>\n",
       "<style scoped>\n",
       "    .dataframe tbody tr th:only-of-type {\n",
       "        vertical-align: middle;\n",
       "    }\n",
       "\n",
       "    .dataframe tbody tr th {\n",
       "        vertical-align: top;\n",
       "    }\n",
       "\n",
       "    .dataframe thead th {\n",
       "        text-align: right;\n",
       "    }\n",
       "</style>\n",
       "<table border=\"1\" class=\"dataframe\">\n",
       "  <thead>\n",
       "    <tr style=\"text-align: right;\">\n",
       "      <th></th>\n",
       "      <th>Mean</th>\n",
       "      <th>StdDev</th>\n",
       "      <th>MeanDeviation</th>\n",
       "    </tr>\n",
       "  </thead>\n",
       "  <tbody>\n",
       "    <tr>\n",
       "      <th>195</th>\n",
       "      <td>20.020106</td>\n",
       "      <td>0.036709</td>\n",
       "      <td>0.020106</td>\n",
       "    </tr>\n",
       "    <tr>\n",
       "      <th>92</th>\n",
       "      <td>19.987229</td>\n",
       "      <td>0.061716</td>\n",
       "      <td>0.012771</td>\n",
       "    </tr>\n",
       "    <tr>\n",
       "      <th>154</th>\n",
       "      <td>20.028028</td>\n",
       "      <td>0.043530</td>\n",
       "      <td>0.028028</td>\n",
       "    </tr>\n",
       "    <tr>\n",
       "      <th>193</th>\n",
       "      <td>19.975203</td>\n",
       "      <td>0.055019</td>\n",
       "      <td>0.024797</td>\n",
       "    </tr>\n",
       "    <tr>\n",
       "      <th>103</th>\n",
       "      <td>20.042453</td>\n",
       "      <td>0.035712</td>\n",
       "      <td>0.042453</td>\n",
       "    </tr>\n",
       "    <tr>\n",
       "      <th>163</th>\n",
       "      <td>19.988801</td>\n",
       "      <td>0.067536</td>\n",
       "      <td>0.011199</td>\n",
       "    </tr>\n",
       "    <tr>\n",
       "      <th>159</th>\n",
       "      <td>20.045772</td>\n",
       "      <td>0.057521</td>\n",
       "      <td>0.045772</td>\n",
       "    </tr>\n",
       "    <tr>\n",
       "      <th>122</th>\n",
       "      <td>19.929305</td>\n",
       "      <td>0.084441</td>\n",
       "      <td>0.070695</td>\n",
       "    </tr>\n",
       "    <tr>\n",
       "      <th>51</th>\n",
       "      <td>20.092958</td>\n",
       "      <td>0.032249</td>\n",
       "      <td>0.092958</td>\n",
       "    </tr>\n",
       "    <tr>\n",
       "      <th>33</th>\n",
       "      <td>20.080412</td>\n",
       "      <td>0.064263</td>\n",
       "      <td>0.080412</td>\n",
       "    </tr>\n",
       "  </tbody>\n",
       "</table>\n",
       "</div>"
      ],
      "text/plain": [
       "          Mean    StdDev  MeanDeviation\n",
       "195  20.020106  0.036709       0.020106\n",
       "92   19.987229  0.061716       0.012771\n",
       "154  20.028028  0.043530       0.028028\n",
       "193  19.975203  0.055019       0.024797\n",
       "103  20.042453  0.035712       0.042453\n",
       "163  19.988801  0.067536       0.011199\n",
       "159  20.045772  0.057521       0.045772\n",
       "122  19.929305  0.084441       0.070695\n",
       "51   20.092958  0.032249       0.092958\n",
       "33   20.080412  0.064263       0.080412"
      ]
     },
     "execution_count": 27,
     "metadata": {},
     "output_type": "execute_result"
    }
   ],
   "source": [
    "df_acc = calibim.gather_accuracy_measurements(triang, df, best_pair_index, n_first=100, nominal=20., psize=(9, 7))\n",
    "\n",
    "df_acc.head(10)"
   ]
  },
  {
   "cell_type": "code",
   "execution_count": null,
   "metadata": {},
   "outputs": [],
   "source": []
  },
  {
   "cell_type": "code",
   "execution_count": 28,
   "metadata": {},
   "outputs": [
    {
     "data": {
      "image/png": "[encoded data removed]",
      "text/plain": [
       "<Figure size 432x288 with 1 Axes>"
      ]
     },
     "metadata": {
      "needs_background": "light"
     },
     "output_type": "display_data"
    }
   ],
   "source": [
    "df_acc_1 = df_acc.iloc[:20]\n",
    "df_acc_2 = df_acc.iloc[20:40]\n",
    "\n",
    "plt.scatter(df_acc.MeanDeviation, df_acc.StdDev, color='slategray')\n",
    "\n",
    "plt.scatter(df_acc_1.MeanDeviation, df_acc_1.StdDev, color='lime')\n",
    "plt.scatter(df_acc_2.MeanDeviation, df_acc_2.StdDev, color='blue')\n",
    "\n",
    "plt.xlabel(\"Mean's deviation from nominal\")\n",
    "plt.ylabel(\"Standard devitation\")\n",
    "plt.show()"
   ]
  },
  {
   "cell_type": "code",
   "execution_count": null,
   "metadata": {},
   "outputs": [],
   "source": []
  },
  {
   "cell_type": "code",
   "execution_count": 29,
   "metadata": {},
   "outputs": [
    {
     "data": {
      "image/png": "[encoded data removed]",
      "text/plain": [
       "<Figure size 1080x216 with 1 Axes>"
      ]
     },
     "metadata": {
      "needs_background": "light"
     },
     "output_type": "display_data"
    }
   ],
   "source": [
    "consec_md, groups = gather_from_df_acc_for_consecutive_groups(df_acc, 'MeanDeviation', group_size=5, n_groups=20)\n",
    "\n",
    "plot_consec(consec_md, groups)\n",
    "plt.title('Deviation of the mean from the nominal value')\n",
    "plt.show()"
   ]
  },
  {
   "cell_type": "code",
   "execution_count": null,
   "metadata": {},
   "outputs": [],
   "source": []
  },
  {
   "cell_type": "code",
   "execution_count": 30,
   "metadata": {},
   "outputs": [
    {
     "data": {
      "image/png": "[encoded data removed]",
      "text/plain": [
       "<Figure size 1080x216 with 1 Axes>"
      ]
     },
     "metadata": {
      "needs_background": "light"
     },
     "output_type": "display_data"
    }
   ],
   "source": [
    "consec_sd, groups = gather_from_df_acc_for_consecutive_groups(df_acc, 'StdDev', group_size=5, n_groups=20)\n",
    "\n",
    "plot_consec(consec_sd, groups)\n",
    "plt.title('Standard deviation')\n",
    "plt.show()"
   ]
  },
  {
   "cell_type": "code",
   "execution_count": null,
   "metadata": {},
   "outputs": [],
   "source": []
  }
 ],
 "metadata": {
  "kernelspec": {
   "display_name": "Python 3",
   "language": "python",
   "name": "python3"
  },
  "language_info": {
   "codemirror_mode": {
    "name": "ipython",
    "version": 3
   },
   "file_extension": ".py",
   "mimetype": "text/x-python",
   "name": "python",
   "nbconvert_exporter": "python",
   "pygments_lexer": "ipython3",
   "version": "3.6.7"
  }
 },
 "nbformat": 4,
 "nbformat_minor": 2
}
